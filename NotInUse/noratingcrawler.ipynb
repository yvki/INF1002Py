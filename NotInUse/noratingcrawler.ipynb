{
 "cells": [
  {
   "cell_type": "code",
   "execution_count": 1,
   "metadata": {},
   "outputs": [],
   "source": [
    "from selenium import webdriver\n",
    "from selenium.webdriver.common.by import By\n",
    "import pandas as pd\n",
    "import time\n",
    "from nltk.sentiment.vader import SentimentIntensityAnalyzer\n",
    "import nltk\n",
    "from wordcloud import WordCloud\n",
    "import matplotlib.pyplot as plt"
   ]
  },
  {
   "cell_type": "code",
   "execution_count": null,
   "metadata": {},
   "outputs": [],
   "source": [
    "url = 'https://www.tripadvisor.com/Hotel_Review-g294265-d1770798-Reviews-Marina_Bay_Sands-Singapore.html'\n",
    "\n",
    "chrome_options = webdriver.ChromeOptions()\n",
    "chrome_options.add_argument('--headless')\n",
    "chrome_options.add_argument('--no-sandbox')\n",
    "chrome_options.add_argument('--disable-dev-shm-usage')\n",
    "driver = webdriver.Chrome('D:/chromedriver_win32/chromedriver.exe', options=chrome_options)\n",
    "\n",
    "driver.get(url)\n",
    "name_list = []\n",
    "titles_list = []\n",
    "reviews_list = []\n",
    "\n",
    "for i in range(0, 10):\n",
    "    # crawl review name\n",
    "    names = driver.find_elements(By.XPATH, \"(//a[@class='ui_header_link uyyBf'])\")\n",
    "    for name in range(len(names)):\n",
    "        name_list.append(names[name].text)\n",
    "    # crawl review title\n",
    "    review_names = driver.find_elements(By.XPATH, \"(//a[@class='Qwuub']/span)\")\n",
    "    for review in range(len(review_names)):\n",
    "        titles_list.append(review_names[review].text)\n",
    "    # crawl reviews\n",
    "    reviews = driver.find_elements(By.XPATH, \"(//q[@class='QewHA H4 _a']/span)\")\n",
    "    for review in range(len(reviews)):\n",
    "        reviews_list.append(reviews[review].text)\n",
    "    # find element by id\n",
    "    driver.find_element(By.XPATH, \"//a[@class='ui_button nav next primary ']\").click()\n",
    "    time.sleep(2)\n",
    "driver.quit()"
   ]
  },
  {
   "cell_type": "code",
   "execution_count": null,
   "metadata": {},
   "outputs": [],
   "source": [
    "data =list( zip(name_list, titles_list, reviews_list))\n",
    "reviews = pd.DataFrame(data,columns=['Reviewer', 'Title', 'Text'])\n",
    "reviews.head(5)\n",
    "reviews.to_csv('sg_hotel_reviews.csv', index=False, header=True)\n",
    "reviews"
   ]
  }
 ],
 "metadata": {
  "kernelspec": {
   "display_name": "Python 3.10.6 64-bit",
   "language": "python",
   "name": "python3"
  },
  "language_info": {
   "codemirror_mode": {
    "name": "ipython",
    "version": 3
   },
   "file_extension": ".py",
   "mimetype": "text/x-python",
   "name": "python",
   "nbconvert_exporter": "python",
   "pygments_lexer": "ipython3",
   "version": "3.10.6"
  },
  "orig_nbformat": 4,
  "vscode": {
   "interpreter": {
    "hash": "f4611460680fa54d62dddcc91656d1c72111228e40fa0fe8787afa933885aa87"
   }
  }
 },
 "nbformat": 4,
 "nbformat_minor": 2
}
