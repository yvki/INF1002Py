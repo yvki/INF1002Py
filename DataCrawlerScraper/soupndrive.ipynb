{
 "cells": [
  {
   "cell_type": "code",
   "execution_count": 1,
   "metadata": {},
   "outputs": [],
   "source": [
    "from selenium import webdriver\n",
    "from selenium.webdriver.common.by import By\n",
    "from bs4 import BeautifulSoup\n",
    "import requests\n",
    "import pandas as pd\n",
    "import time"
   ]
  },
  {
   "cell_type": "code",
   "execution_count": 27,
   "metadata": {},
   "outputs": [
    {
     "name": "stderr",
     "output_type": "stream",
     "text": [
      "C:\\Users\\vicki\\AppData\\Local\\Temp\\ipykernel_14024\\185479704.py:8: DeprecationWarning: executable_path has been deprecated, please pass in a Service object\n",
      "  driver = webdriver.Chrome('D:/chromedriver_win32/chromedriver.exe', options=chrome_options)\n"
     ]
    },
    {
     "data": {
      "text/html": [
       "<div>\n",
       "<style scoped>\n",
       "    .dataframe tbody tr th:only-of-type {\n",
       "        vertical-align: middle;\n",
       "    }\n",
       "\n",
       "    .dataframe tbody tr th {\n",
       "        vertical-align: top;\n",
       "    }\n",
       "\n",
       "    .dataframe thead th {\n",
       "        text-align: right;\n",
       "    }\n",
       "</style>\n",
       "<table border=\"1\" class=\"dataframe\">\n",
       "  <thead>\n",
       "    <tr style=\"text-align: right;\">\n",
       "      <th></th>\n",
       "      <th>Reviewer</th>\n",
       "      <th>Title</th>\n",
       "      <th>Review</th>\n",
       "      <th>Rating</th>\n",
       "    </tr>\n",
       "  </thead>\n",
       "  <tbody>\n",
       "    <tr>\n",
       "      <th>0</th>\n",
       "      <td>arsw1</td>\n",
       "      <td>Warm hospitality</td>\n",
       "      <td>I had a good experience staying in this hotel....</td>\n",
       "      <td>[ui_bubble_rating, bubble_50]</td>\n",
       "    </tr>\n",
       "    <tr>\n",
       "      <th>1</th>\n",
       "      <td>beatrice390</td>\n",
       "      <td>ARROGANT FRONT DESK ATTITUDE!</td>\n",
       "      <td>As an old and loyal costumer , I feel lots of ...</td>\n",
       "      <td>[ui_bubble_rating, bubble_10]</td>\n",
       "    </tr>\n",
       "    <tr>\n",
       "      <th>2</th>\n",
       "      <td>Lilian H</td>\n",
       "      <td>50-50</td>\n",
       "      <td></td>\n",
       "      <td>[ui_bubble_rating, bubble_30]</td>\n",
       "    </tr>\n",
       "    <tr>\n",
       "      <th>3</th>\n",
       "      <td>richard o</td>\n",
       "      <td>Poor,poor,poor</td>\n",
       "      <td>Early July we’ve stayed at this hotel on level...</td>\n",
       "      <td>[ui_bubble_rating, bubble_10]</td>\n",
       "    </tr>\n",
       "    <tr>\n",
       "      <th>4</th>\n",
       "      <td>Connor P</td>\n",
       "      <td>Sustainable and Stylish with great Service!</td>\n",
       "      <td>Shockingly overpriced budget university lodgin...</td>\n",
       "      <td>[ui_bubble_rating, bubble_50]</td>\n",
       "    </tr>\n",
       "  </tbody>\n",
       "</table>\n",
       "</div>"
      ],
      "text/plain": [
       "      Reviewer                                        Title  \\\n",
       "0        arsw1                             Warm hospitality   \n",
       "1  beatrice390                ARROGANT FRONT DESK ATTITUDE!   \n",
       "2     Lilian H                                        50-50   \n",
       "3    richard o                               Poor,poor,poor   \n",
       "4     Connor P  Sustainable and Stylish with great Service!   \n",
       "\n",
       "                                              Review  \\\n",
       "0  I had a good experience staying in this hotel....   \n",
       "1  As an old and loyal costumer , I feel lots of ...   \n",
       "2                                                      \n",
       "3  Early July we’ve stayed at this hotel on level...   \n",
       "4  Shockingly overpriced budget university lodgin...   \n",
       "\n",
       "                          Rating  \n",
       "0  [ui_bubble_rating, bubble_50]  \n",
       "1  [ui_bubble_rating, bubble_10]  \n",
       "2  [ui_bubble_rating, bubble_30]  \n",
       "3  [ui_bubble_rating, bubble_10]  \n",
       "4  [ui_bubble_rating, bubble_50]  "
      ]
     },
     "execution_count": 27,
     "metadata": {},
     "output_type": "execute_result"
    }
   ],
   "source": [
    "url = 'https://www.tripadvisor.com.sg/Hotel_Review-g294265-d4456040-Reviews-Holiday_Inn_Express_Singapore_Orchard_Road-Singapore.html'\n",
    "\n",
    "# install the chrome web driver from selenium\n",
    "chrome_options = webdriver.ChromeOptions()\n",
    "chrome_options.add_argument('--headless')\n",
    "chrome_options.add_argument('--no-sandbox')\n",
    "chrome_options.add_argument('--disable-dev-shm-usage')\n",
    "driver = webdriver.Chrome('D:/chromedriver_win32/chromedriver.exe', options=chrome_options)\n",
    "driver.get(url)\n",
    "\n",
    "req = requests.get(url, headers={'User-Agent': 'Mozilla/5.0'})\n",
    "html = req.content\n",
    "time.sleep(2)    \n",
    "soup = BeautifulSoup(html, 'html.parser')\n",
    "\n",
    "name_list = []\n",
    "titles_list = []\n",
    "reviews_list = []\n",
    "ratings_list = []\n",
    "\n",
    "for i in range(0, 10):\n",
    "    # crawl customer name\n",
    "    names = driver.find_elements(By.XPATH, \"(//a[@class='ui_header_link uyyBf'])\")\n",
    "    for name in range(len(names)):\n",
    "        name_list.append(names[name].text)\n",
    "    # crawl review title\n",
    "    review_names = driver.find_elements(By.XPATH, \"(//a[@class='Qwuub']/span)\")\n",
    "    for review in range(len(review_names)):\n",
    "        titles_list.append(review_names[review].text)\n",
    "    # crawl review text\n",
    "    reviews = driver.find_elements(By.XPATH, \"(//q[@class='QewHA H4 _a']/span)\")\n",
    "    for review in range(len(reviews)):\n",
    "        reviews_list.append(reviews[review].text)\n",
    "    # crawl review rating\n",
    "    for a in soup.find_all('div', class_='IkECb f O'):\n",
    "        ratings_list.append(a.span['class'])\n",
    "    # find element by id\n",
    "    driver.find_element(By.XPATH, \"//a[@class='ui_button nav next primary ']\").click()\n",
    "    time.sleep(2)\n",
    "driver.quit()\n",
    "\n",
    "data =list(zip(name_list, titles_list, reviews_list, ratings_list))\n",
    "reviews = pd.DataFrame(data,columns=['Reviewer', 'Title', 'Review', 'Rating'])\n",
    "# def rating_to_num(rating):\n",
    "#     if rating == '[ui_bubble_rating, bubble_10]':\n",
    "#         return rating == '1'\n",
    "#     if rating == '[ui_bubble_rating, bubble_20]':\n",
    "#         return rating == '2'\n",
    "#     if rating == '[ui_bubble_rating, bubble_30]':\n",
    "#         return rating == '3'\n",
    "#     if rating == '[ui_bubble_rating, bubble_40]':\n",
    "#         return rating == '4'\n",
    "#     if rating == '[ui_bubble_rating, bubble_50]':\n",
    "#         return rating == '5'\n",
    "# reviews['Rating'] = reviews['Rating'].apply(rating_to_num)\n",
    "reviews.to_csv('HolidayInnTry.csv', index=False, header=True)\n",
    "reviews.head(5)\n"
   ]
  },
  {
   "cell_type": "code",
   "execution_count": 31,
   "metadata": {},
   "outputs": [
    {
     "ename": "SyntaxError",
     "evalue": "invalid syntax. Perhaps you forgot a comma? (3211303165.py, line 2)",
     "output_type": "error",
     "traceback": [
      "\u001b[1;36m  Input \u001b[1;32mIn [31]\u001b[1;36m\u001b[0m\n\u001b[1;33m    dataf.Rating[dataf.Rating == '['ui_bubble_rating', 'bubble_50'] '] = 1\u001b[0m\n\u001b[1;37m                 ^\u001b[0m\n\u001b[1;31mSyntaxError\u001b[0m\u001b[1;31m:\u001b[0m invalid syntax. Perhaps you forgot a comma?\n"
     ]
    }
   ],
   "source": [
    "dataf = pd.read_csv(\"HolidayInnTry.csv\")\n",
    "dataf.Rating[dataf.Rating == '['ui_bubble_rating', 'bubble_50'] '] = 1\n",
    "dataf.Rating[dataf.Rating == '['ui_bubble_rating', 'bubble_50'] '] = 5\n",
    "print(dataf)"
   ]
  }
 ],
 "metadata": {
  "kernelspec": {
   "display_name": "Python 3.10.6 64-bit",
   "language": "python",
   "name": "python3"
  },
  "language_info": {
   "codemirror_mode": {
    "name": "ipython",
    "version": 3
   },
   "file_extension": ".py",
   "mimetype": "text/x-python",
   "name": "python",
   "nbconvert_exporter": "python",
   "pygments_lexer": "ipython3",
   "version": "3.10.6"
  },
  "orig_nbformat": 4,
  "vscode": {
   "interpreter": {
    "hash": "f4611460680fa54d62dddcc91656d1c72111228e40fa0fe8787afa933885aa87"
   }
  }
 },
 "nbformat": 4,
 "nbformat_minor": 2
}
